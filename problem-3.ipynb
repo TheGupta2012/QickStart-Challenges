{
 "cells": [
  {
   "cell_type": "markdown",
   "id": "70ae4455",
   "metadata": {},
   "source": [
    "# Problem 3 - Bloch It! \n",
    "\n",
    "Bob has recently read about the Bloch Sphere representation of a quantum state and is feeling confident. After getting bored from all he could read about it, he asks his teacher Hilbert to give him a problem to brush up his skills. Hilbert gladly agrees and proposes a setting for Bob - \n",
    "\n",
    "- You are given an initial state of $|\\Psi\\rangle$. \n",
    "- This state can be chosen from the eigenstates of the Pauli Gates $X,\\ Y\\ and\\ Z$ i.e. from the set $|0\\rangle, |1\\rangle, |+\\rangle, |-\\rangle, |r\\rangle\\ and\\ |l\\rangle$ where all these states can be represented on the Bloch Sphere as (in order of naming)- \n",
    "<hr>\n",
    "<img src='resources/problem-3/eigen-states.png'>\n",
    "<hr>\n",
    "\n",
    "- You are also given 3 arrays, $AR_z,\\ AR_x,\\ AR_y$ which have sizes $n,\\ m,\\ k$ respectively. \n",
    "- Each of the elements of the array mean the following - \n",
    "    - If $AR_z[i]\\ =\\ r_1$, means current state vector is rotated counter-clockwise by an amount $\\frac{r_1\\pi}{2}$ about the $Z$ axis \n",
    "    - If $AR_x[j]\\ =\\ r_2$, means current state vector is rotated counter-clockwise by an amount $\\frac{r_2\\pi}{2}$ about the $X$ axis \n",
    "    - If $AR_y[k]\\ =\\ r_3$, means current state vector is rotated counter-clockwise by an amount $\\frac{r_3\\pi}{2}$ about the $Y$ axis \n",
    " \n",
    "#### Bloch Operation\n",
    "- It is defined as a list of 3 indices $[i,j,k]$ such that applying the rotations $[AR_z[i], AR_x[j], AR_y[k]]$ (in the same order) will take the initial state of this operation say $|\\Phi\\rangle$ to the $|0\\rangle$ state.\n",
    "- More formally if $AR_z[i]\\ =\\ r_1$, $AR_x[j]\\ =\\ r_2$ and $AR_y[k]\\ =\\ r_3$, - \n",
    "\n",
    "    $$R_y(\\frac{r_3\\pi}{2})R_x(\\frac{r_2\\pi}{2})R_z(\\frac{r_1\\pi}{2})|\\Phi\\rangle = |0\\rangle$$"
   ]
  },
  {
   "cell_type": "code",
   "execution_count": 1,
   "id": "995e5b0f",
   "metadata": {
    "ExecuteTime": {
     "end_time": "2022-10-12T14:49:30.565785Z",
     "start_time": "2022-10-12T14:49:30.553718Z"
    }
   },
   "outputs": [],
   "source": [
    "## Enter Team ID \n",
    "import os \n",
    "os.environ[\"TEAMID\"] = \"your team name\""
   ]
  },
  {
   "cell_type": "markdown",
   "id": "733fdbd1",
   "metadata": {},
   "source": [
    "## Task\n",
    "- Your task is to bring this initial state $|\\Psi\\rangle$ to the $|0\\rangle$ state by doing a **bloch operation** and count the total number of **bloch operations** which are possible\n",
    "- The problems contain different versions of this task, each with different levels of difficulty\n",
    "- For all levels, intial state $|\\Psi\\rangle$ is selected from the set $|0\\rangle, |1\\rangle, |+\\rangle, |-\\rangle, |r\\rangle\\ and\\ |l\\rangle$"
   ]
  },
  {
   "cell_type": "markdown",
   "id": "ad0decdb",
   "metadata": {},
   "source": [
    "### Level 1 - 40 points \n",
    "- Given the initial state $|\\Psi\\rangle$, your task is to build one-element lists for a valid **bloch operation**.\n",
    "- Eg. \n",
    "    - If you are given a state $|0\\rangle$, a valid bloch operation is going to be [0,0,0] with the lists as $AR_z\\ =\\ [0],\\ AR_x\\ =\\ [2]\\ and\\ AR_y\\ =\\ [-2]$\n",
    "    - The following code block highlights how the $|0\\rangle$ state is converted to the $|0\\rangle$ yet again after this series of operations.\n",
    "    \n",
    "- You can play around with the widget generated from the `visualize_transition` function to understand the problem better"
   ]
  },
  {
   "cell_type": "code",
   "execution_count": 1,
   "id": "5509f54d",
   "metadata": {
    "ExecuteTime": {
     "end_time": "2022-10-08T06:36:06.483462Z",
     "start_time": "2022-10-08T06:36:06.081376Z"
    }
   },
   "outputs": [
    {
     "data": {
      "text/plain": [
       "<qiskit.circuit.instructionset.InstructionSet at 0x7efee335ba30>"
      ]
     },
     "execution_count": 1,
     "metadata": {},
     "output_type": "execute_result"
    }
   ],
   "source": [
    "from qiskit import QuantumCircuit\n",
    "from qiskit.visualization import visualize_transition\n",
    "import numpy as np\n",
    "\n",
    "# build the quantum circuit\n",
    "q = QuantumCircuit(1)\n",
    "\n",
    "# init the state\n",
    "# already |0>\n",
    "\n",
    "# apply transformation\n",
    "q.rz(0, 0)\n",
    "q.rx(2*np.pi/2, 0)\n",
    "q.ry(-2*np.pi/2, 0)"
   ]
  },
  {
   "cell_type": "code",
   "execution_count": null,
   "id": "643f60da",
   "metadata": {
    "ExecuteTime": {
     "end_time": "2022-10-08T06:33:39.876603Z",
     "start_time": "2022-10-08T06:33:26.205627Z"
    }
   },
   "outputs": [],
   "source": [
    "visualize_transition(q)"
   ]
  },
  {
   "cell_type": "markdown",
   "id": "be4392ce",
   "metadata": {},
   "source": [
    "#### To submit \n",
    "- Create a function which should accept a parameter `state` from one of the characters '0', '1', '+', '-', 'r', 'l' \n",
    "- It should return a list `rotations` containing 3 integers where `rotations[0], rotations[1], rotations[2]` are the counter-clockwise rotations about the Z axis, X axis and Y axis respectively \n",
    "- These rotations, when applied in order, should transform the given state to the $|0\\rangle$ state\n",
    "\n",
    "\n",
    "**NOTE** \n",
    "1. Please refrain from adding any kinds of statements other than comments in the designated code block, this may result in wrong output \n",
    "2. You can assume that the input state is always going to be a valid character"
   ]
  },
  {
   "cell_type": "markdown",
   "id": "7a1f58cb",
   "metadata": {},
   "source": [
    "#### Function"
   ]
  },
  {
   "cell_type": "code",
   "execution_count": null,
   "id": "e322ef1e",
   "metadata": {
    "ExecuteTime": {
     "end_time": "2022-10-08T06:33:39.880138Z",
     "start_time": "2022-10-08T06:33:25.338Z"
    }
   },
   "outputs": [],
   "source": [
    "def generate_bloch_operation(state):\n",
    "    rotation = [0,0,0]\n",
    "    ### Your code goes here \n",
    "    \n",
    "    \n",
    "    ### Your code goes here \n",
    "    \n",
    "    return rotation "
   ]
  },
  {
   "cell_type": "markdown",
   "id": "aeb8d00a",
   "metadata": {},
   "source": [
    "#### Test function\n",
    "- Test your function before submitting to the grader "
   ]
  },
  {
   "cell_type": "code",
   "execution_count": null,
   "id": "01abb198",
   "metadata": {
    "ExecuteTime": {
     "end_time": "2022-10-08T06:33:39.881454Z",
     "start_time": "2022-10-08T06:33:25.350Z"
    }
   },
   "outputs": [],
   "source": [
    "def test_function_1():\n",
    "    state = '1'\n",
    "    \n",
    "    rotation = generate_bloch_operation(state)\n",
    "    \n",
    "    return rotation\n",
    "\n",
    "test_function_1()"
   ]
  },
  {
   "cell_type": "code",
   "execution_count": null,
   "id": "c4632178",
   "metadata": {
    "ExecuteTime": {
     "end_time": "2022-10-08T06:33:39.883353Z",
     "start_time": "2022-10-08T06:33:25.353Z"
    }
   },
   "outputs": [],
   "source": [
    "from grader.graders.problem_3.grader import grader1 \n",
    "grader1.evaluate(generate_bloch_operation)"
   ]
  },
  {
   "cell_type": "markdown",
   "id": "133207f0",
   "metadata": {},
   "source": [
    "### Level 2 - 60 points\n",
    "- Here we start to get interesting! \n",
    "- You are still given an initial state $|\\Psi\\rangle$ but the arrays $AR_z,\\ AR_x,\\ AR_y$ which have sizes $n,\\ m,\\ k$ respectively, are now provided in the function. \n",
    "- Your task is to return the total number of **bloch operations** possible from these arrays\n",
    "    \n",
    "- **Constraints** \n",
    "    - $1 < n <= 10$, $1 < m <= 10$ and $1 < k <= 10$\n",
    "    - Time limit for execution : 10 seconds"
   ]
  },
  {
   "cell_type": "markdown",
   "id": "c198a25f",
   "metadata": {},
   "source": [
    "#### To submit "
   ]
  },
  {
   "cell_type": "markdown",
   "id": "901b4d33",
   "metadata": {},
   "source": [
    "- Create a function which should accept a parameter `state` from one of the characters '0', '1', '+', '-', 'r', 'l' \n",
    "- It should also accept three parameters `arz`, `arx`, `ary` which have the meanings as defined above\n",
    "- The function should return an integer `total` representing the total number of **bloch operations**\n",
    "   \n",
    "\n",
    "**NOTE** \n",
    "1. Please refrain from adding any kinds of statements other than comments in the designated code block, this may result in wrong output \n",
    "2. You can assume that the input state is always going to be a valid character and that `arx`, `ary`, `arz` all contain valid integer elements"
   ]
  },
  {
   "cell_type": "markdown",
   "id": "4a9ccac3",
   "metadata": {},
   "source": [
    "#### Example Testcase "
   ]
  },
  {
   "cell_type": "markdown",
   "id": "f2e0339b",
   "metadata": {},
   "source": [
    "```python\n",
    "# say we have these arrays\n",
    "arz = [2]\n",
    "arx = [-2]\n",
    "ary = [0, 2]\n",
    "\n",
    "# initial state is |0>\n",
    "state = '0'\n",
    "\n",
    "# your function would return these two things\n",
    "total = get_total_bloch_ops(state, arz, arx, ary)\n",
    "```"
   ]
  },
  {
   "cell_type": "markdown",
   "id": "f0ced706",
   "metadata": {},
   "source": [
    "#### Explanation"
   ]
  },
  {
   "cell_type": "markdown",
   "id": "8bbef20b",
   "metadata": {},
   "source": [
    "- Let us see the rotations for each possible triplet first - \n",
    "    - **[0,0,0]**\n",
    "        - Rotation Z = $2*\\frac{\\pi}{2}$, state remains $|0\\rangle$\n",
    "        - Rotation X = $-2*\\frac{\\pi}{2}$, state changes to $|1\\rangle$ \n",
    "        - Rotation Y = $0*\\frac{\\pi}{2}$, state remains same. \n",
    "        - Final state is $|1\\rangle$ -> **Incorrect** series of rotations\n",
    "        \n",
    "    - **[0,0,1]**\n",
    "        - Rotation Z = $2*\\frac{\\pi}{2}$, state remains $|0\\rangle$\n",
    "        - Rotation X = $-2*\\frac{\\pi}{2}$, state changes to $|1\\rangle$ \n",
    "        - Rotation Y = $2*\\frac{\\pi}{2}$, state changes back to $|0\\rangle$ \n",
    "        - Final state is $|0\\rangle$ -> **Correct** series of rotations\n",
    "\n",
    "\n",
    "- Thus, in the above example, `total=1` and the possible **bloch operations** list would be something like this - \n",
    "    - `operations = [([0,0,1], qc)]` where `qc` will be the `QuantumCircuit` implementing the series of operations on a single qubit circuit -\n",
    "```python\n",
    "# for reference \n",
    "qc = QuantumCircuit(1)\n",
    "qc.rz(2*pi/2, 0)\n",
    "qc.rx(-2*pi/2, 0)\n",
    "qc.ry(2*pi/2, 0)\n",
    "# no measurements should be present at end\n",
    "```"
   ]
  },
  {
   "cell_type": "markdown",
   "id": "99cb4af4",
   "metadata": {},
   "source": [
    "#### Function"
   ]
  },
  {
   "cell_type": "code",
   "execution_count": 15,
   "id": "e1059a42",
   "metadata": {
    "ExecuteTime": {
     "end_time": "2022-10-08T09:06:35.907382Z",
     "start_time": "2022-10-08T09:06:35.904280Z"
    }
   },
   "outputs": [],
   "source": [
    "def get_total_bloch_ops(state, arz, arx, ary):\n",
    "    total = 0\n",
    "    ### Your code goes here \n",
    "    \n",
    "    \n",
    "    ### Your code goes here \n",
    "    \n",
    "    return total"
   ]
  },
  {
   "cell_type": "markdown",
   "id": "e6802027",
   "metadata": {},
   "source": [
    "#### Test function\n",
    "- Test your function before submitting to the grader"
   ]
  },
  {
   "cell_type": "code",
   "execution_count": null,
   "id": "52ef93b7",
   "metadata": {
    "ExecuteTime": {
     "end_time": "2022-10-08T09:06:01.081556Z",
     "start_time": "2022-10-08T09:06:01.066438Z"
    }
   },
   "outputs": [],
   "source": [
    "def test_function_2():\n",
    "    # say we have these arrays\n",
    "    arz = [2]\n",
    "    arx = [-2]\n",
    "    ary = [0, 2]\n",
    "\n",
    "    # initial state is |0>\n",
    "    state = '0'\n",
    "    \n",
    "    # your function would return these two things\n",
    "    total = get_total_bloch_ops(state, arz, arx, ary)\n",
    "    \n",
    "    return total\n",
    "\n",
    "test_function_2()"
   ]
  },
  {
   "cell_type": "code",
   "execution_count": null,
   "id": "bfdd10b9",
   "metadata": {
    "ExecuteTime": {
     "end_time": "2022-10-08T09:06:28.778952Z",
     "start_time": "2022-10-08T09:06:28.773259Z"
    }
   },
   "outputs": [],
   "source": [
    "from grader.graders.problem_3.grader import grader2\n",
    "grader2.evaluate(get_total_bloch_ops)"
   ]
  },
  {
   "cell_type": "markdown",
   "id": "4ede5c5e",
   "metadata": {},
   "source": [
    "### Level 3 - 100 points\n",
    "- This problem is an extension of the level 2. Can you optimize your solution to solve this task?\n",
    "- You are still given an initial state $|\\Psi\\rangle$ and the arrays $AR_z,\\ AR_x,\\ AR_y$ have sizes $n,\\ m,\\ k$ respectively. \n",
    "- You only need to provide the total count of **bloch operations** in this case.\n",
    "\n",
    "- **Constraints** \n",
    "    - $1 < n <= 10^5$, $1 < m <= 10^5$ and $1 < k <= 10^5$\n",
    "    - Time limit for execution : 10 seconds"
   ]
  },
  {
   "cell_type": "markdown",
   "id": "688a5b77",
   "metadata": {},
   "source": [
    "#### To submit \n",
    "- Create a function which should accept a parameter `state` from one of the characters '0', '1', '+', '-', 'r', 'l' \n",
    "- It should also accept three parameters `arz`, `arx`, `ary` which have the meanings as defined above\n",
    "- The function should return a variable `total` which represents the total number of **bloch operations**\n",
    "   \n",
    "\n",
    "**NOTE** \n",
    "1. Please refrain from adding any kinds of statements other than comments in the designated code block, this may result in wrong output \n",
    "2. You can assume that the input state is always going to be a valid character and that `arx`, `ary`, `arz` all contain valid integer elements"
   ]
  },
  {
   "cell_type": "code",
   "execution_count": 13,
   "id": "0b6e0922",
   "metadata": {
    "ExecuteTime": {
     "end_time": "2022-10-08T09:06:24.750181Z",
     "start_time": "2022-10-08T09:06:24.744622Z"
    }
   },
   "outputs": [],
   "source": [
    "def get_larger_total_bloch_ops(state, arz, arx, ary):\n",
    "    total = 0 \n",
    "    ### Your code goes here \n",
    "    \n",
    "    \n",
    "    ### Your code goes here \n",
    "    \n",
    "    return total"
   ]
  },
  {
   "cell_type": "markdown",
   "id": "2dd8ccb2",
   "metadata": {},
   "source": [
    "#### Test function\n",
    "- Test your function before submitting to the grader\n",
    "\n"
   ]
  },
  {
   "cell_type": "code",
   "execution_count": null,
   "id": "21dea449",
   "metadata": {
    "ExecuteTime": {
     "end_time": "2022-10-08T06:38:27.266610Z",
     "start_time": "2022-10-08T06:38:27.255459Z"
    }
   },
   "outputs": [],
   "source": [
    "def test_function_3():\n",
    "    # say we have these arrays\n",
    "    arz = [2]\n",
    "    arx = [-2]\n",
    "    ary = [0, 2]\n",
    "\n",
    "    # initial state is |0>\n",
    "    state = '0'\n",
    "\n",
    "    # your function would return these two things\n",
    "    total = get_larger_total_bloch_ops(state, arz, arx, ary)\n",
    "    \n",
    "    return total\n",
    "\n",
    "test_function_3()"
   ]
  },
  {
   "cell_type": "code",
   "execution_count": null,
   "id": "c975e019",
   "metadata": {
    "ExecuteTime": {
     "end_time": "2022-10-08T09:06:18.156359Z",
     "start_time": "2022-10-08T09:06:17.160752Z"
    }
   },
   "outputs": [],
   "source": [
    "from grader.graders.problem_3.grader import grader3\n",
    "grader3.evaluate(get_larger_total_bloch_ops)"
   ]
  },
  {
   "cell_type": "code",
   "execution_count": null,
   "id": "4bc7072f",
   "metadata": {},
   "outputs": [],
   "source": []
  }
 ],
 "metadata": {
  "kernelspec": {
   "display_name": "Python 3",
   "language": "python",
   "name": "python3"
  },
  "language_info": {
   "codemirror_mode": {
    "name": "ipython",
    "version": 3
   },
   "file_extension": ".py",
   "mimetype": "text/x-python",
   "name": "python",
   "nbconvert_exporter": "python",
   "pygments_lexer": "ipython3",
   "version": "3.8.10"
  },
  "vscode": {
   "interpreter": {
    "hash": "31f2aee4e71d21fbe5cf8b01ff0e069b9275f58929596ceb00d14d90e3e16cd6"
   }
  }
 },
 "nbformat": 4,
 "nbformat_minor": 5
}
